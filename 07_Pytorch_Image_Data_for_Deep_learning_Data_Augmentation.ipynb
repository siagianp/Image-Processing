{
  "cells": [
    {
      "cell_type": "markdown",
      "source": [
        "###  **Adding Noise to Image data for Deep learning Data Augmentation**\n",
        "\n",
        "![](https://pbblogassets.s3.amazonaws.com/uploads/2018/08/27203831/Periodic-interference.jpg)  \n",
        "\n",
        "**What is Image Noise?**\n",
        "---\n",
        "> **Image noise** is random variation of brightness or color information in images, and is usually an aspect of electronic noise.   \n",
        "> ..._wikipedia_\n",
        "* It can be produced by the image sensor and circuitry of a scanner or digital camera.\n",
        "* Image noise can also originate in film grain and in the unavoidable shot noise of an ideal photon detector.\n",
        "* Image noise is an undesirable by-product of image capture that obscures the desired information.\n",
        "* The original meaning of \"noise\" was \"unwanted signal\"; unwanted electrical fluctuations in signals received by AM radios caused audible acoustic noise (\"static\"). By analogy, unwanted electrical fluctuations are also called \"noise\".\n",
        "* Image noise can range from almost imperceptible specks on a digital photograph taken in good light, to optical and radioastronomical images that are almost entirely noise, from which a small amount of information can be derived by sophisticated processing. Such a noise level would be unacceptable in a photograph since it would be impossible even to determine the subject.\n",
        "* Noise can reduce the accuracy of neural network.\n",
        "* Noise can lead to less generalization power when testing on real-world data.\n",
        "\n",
        "**Effect of Noise**\n",
        "---\n",
        "Real world data is rarely clean. This is not always what is expected to train deep learning models. This is one of the reasons for the malfunction of the neural network. It continues to be the case until we discover a better method to utilise the noise in the data. What if we could utilise noise to data augmentation in deep learning?\n",
        "\n",
        "**Noise We used in this Notebook**\n",
        "---\n",
        "* Gaussian Noise\n",
        "* Salt and Paper Noise\n",
        "* Speckle Noise\n"
      ],
      "metadata": {
        "id": "0fL98jnbgBg0"
      }
    },
    {
      "cell_type": "markdown",
      "source": [
        "**1.Import the Libraries**\n",
        "---"
      ],
      "metadata": {
        "id": "VPLVfjeagBg5"
      }
    },
    {
      "cell_type": "code",
      "execution_count": null,
      "source": [
        "# torch loaded...!!!\n",
        "import torch\n",
        "from torch.utils.data import DataLoader\n",
        "\n",
        "# torchvision loaded...!!!\n",
        "from torchvision.utils import save_image\n",
        "from torchvision import datasets\n",
        "import torchvision.transforms as transforms\n",
        "\n",
        "# other  libraries...!!!\n",
        "import numpy as np\n",
        "import matplotlib.pyplot as plt\n",
        "%matplotlib inline\n",
        "import argparse\n",
        "from skimage.util import random_noise"
      ],
      "outputs": [],
      "metadata": {
        "id": "zOYW1wjlgBg5"
      }
    },
    {
      "cell_type": "markdown",
      "source": [
        "Some of the important ones are:\n",
        "\n",
        "* `datasets`: this will provide us with the PyTorch datasets like MNIST, FashionMNIST, and CIFAR10.\n",
        "* `DataLoader`: we will use this to make iterable data loaders to read the data.\n",
        "* `random_noise`: we will use the random_noise module from skimage library to add noise to our image data.\n",
        "* `save_image`: PyTorch provides this utility to easily save tensor data as images.\n",
        "* `transforms`: helps us with the preprocessing and transformations of the images.\n",
        "* `argparse`: to read the input from the command line and parse it."
      ],
      "metadata": {
        "id": "8yt2usVEgBg8"
      }
    },
    {
      "cell_type": "markdown",
      "source": [
        "**2.Define the Batchsize**\n",
        "---"
      ],
      "metadata": {
        "id": "t9_FhVPxgBg9"
      }
    },
    {
      "cell_type": "code",
      "execution_count": null,
      "source": [
        "dataset = 'mnist'\n",
        "BATCH_SIZE = 4"
      ],
      "outputs": [],
      "metadata": {
        "id": "pbB0BaGbgBg9"
      }
    },
    {
      "cell_type": "markdown",
      "source": [
        "**3. Preparing the Dataset and DataLoader**\n",
        "---"
      ],
      "metadata": {
        "id": "D68BOtXKgBg9"
      }
    },
    {
      "cell_type": "code",
      "execution_count": null,
      "source": [
        "dataset = 'mnist'\n",
        "if dataset == 'mnist':\n",
        "    transform = transforms.Compose([transforms.ToTensor(), transforms.Normalize((0.5, ), (0.5,))])\n",
        "    trainset = datasets.MNIST('../data',train=True, download=True, transform=transform)\n",
        "    test = datasets.MNIST('../data',train=False, download=True, transform=transform)\n",
        "elif dataset == 'fashionmnist':\n",
        "    transform = transforms.Compose([transforms.ToTensor(), transforms.Normalize((0.5, ), (0.5,))])\n",
        "    trainset = datasets.FashionMNIST('../data',train=True, download=True, transform=transform)\n",
        "    test = datasets.FashionMNIST('../data',train=False, download=True, transform=transform)\n",
        "else:\n",
        "    transform = transforms.Compose([transforms.ToTensor(), transforms.Normalize((0.5, 0.5, 0.5), (0.5, 0.5, 0.5)),])\n",
        "    trainset = datasets.CIFAR10('../data',train=True, download=True, transform=transform)\n",
        "    test = datasets.CIFAR10('../data',train=False, download=True, transform=transform)"
      ],
      "outputs": [
        {
          "output_type": "stream",
          "name": "stderr",
          "text": [
            "C:\\Users\\SHIVA\\miniconda3\\envs\\pytorch19\\lib\\site-packages\\torchvision\\datasets\\mnist.py:498: UserWarning: The given NumPy array is not writeable, and PyTorch does not support non-writeable tensors. This means you can write to the underlying (supposedly non-writeable) NumPy array using the tensor. You may want to copy the array to protect its data or make it writeable before converting it to a tensor. This type of warning will be suppressed for the rest of this program. (Triggered internally at  ..\\torch\\csrc\\utils\\tensor_numpy.cpp:180.)\n",
            "  return torch.from_numpy(parsed.astype(m[2], copy=False)).view(*s)\n"
          ]
        }
      ],
      "metadata": {
        "id": "wY03QACkgBg-",
        "outputId": "f1b7d89c-1f56-4300-c067-65c10f2e8ff8"
      }
    },
    {
      "cell_type": "markdown",
      "source": [
        "**4. Data Loader**\n",
        "---"
      ],
      "metadata": {
        "id": "32TyXfKsgBg_"
      }
    },
    {
      "cell_type": "code",
      "execution_count": null,
      "source": [
        "trainLoader = DataLoader(trainset, batch_size=BATCH_SIZE, shuffle=True)\n",
        "testLoader = DataLoader(test, batch_size=BATCH_SIZE, shuffle=True)"
      ],
      "outputs": [],
      "metadata": {
        "id": "ANA1xeCwgBhA"
      }
    },
    {
      "cell_type": "markdown",
      "source": [
        "**5.Save Noisy Image**\n",
        "---"
      ],
      "metadata": {
        "id": "w2EDecNjgBhA"
      }
    },
    {
      "cell_type": "code",
      "execution_count": null,
      "source": [
        "def save_noisy_image(img, name):\n",
        "    if img.size(1) == 3:\n",
        "        img = img.view(img.size(0), 3, 32, 32)\n",
        "        save_image(img, name)\n",
        "    else:\n",
        "        img = img.view(img.size(0), 1, 28, 28)\n",
        "        save_image(img, name)"
      ],
      "outputs": [],
      "metadata": {
        "id": "KAkj9wpagBhB"
      }
    },
    {
      "cell_type": "markdown",
      "source": [
        "**6. Adding Noise to Image Data**\n",
        "---\n",
        "\n",
        "### **1.Gaussian Noise :**\n",
        "\n",
        "* First, we iterate through the data loader and load a batch of images (lines 2 and 3). Note that we do not need the labels for adding noise to the data. However, in case you need to simultaneously train a neural network as well, then you will have to load the labels.\n",
        "* At line 4 we add Gaussian noise to our img tensor. For that we need to convert all of the data into a torch tensor using torch.tensor(). For adding Gaussian noise we need to provide mode as gaussian with a mean of 0 and var (variance) of 0.05. We also clip the values by giving clip=True. It is important to clip the values of the resulting gauss_img tensor. This will make all the values between 0.0 and 1.0 avoiding all weird artifacts in the images.\n",
        "* Finally, we save the image at line 5 by calling the save_noisy_img() function and passing the noisy image and name as the arguments. The name string is based on the dataset that we are using which we extract from the argument parser. We break after one iteration but you can continue if you want. You can save the noisy images as a DataFrame for later use as well."
      ],
      "metadata": {
        "id": "dB6jXwnygBhB"
      }
    },
    {
      "cell_type": "code",
      "execution_count": null,
      "source": [
        "def gaussian_noise():\n",
        "    for data in trainLoader:\n",
        "        img, _ = data[0], data[1]\n",
        "        gauss_img = torch.tensor(random_noise(img, mode='gaussian', mean=0, var=0.05, clip=True))\n",
        "        save_noisy_image(gauss_img, r\"D:\\ashishpatel26_github\\Pytorch Learning\\Noise_image\\{dataset}_gaussian.png\")\n",
        "        break"
      ],
      "outputs": [],
      "metadata": {
        "id": "gk_aUG1bgBhB"
      }
    },
    {
      "cell_type": "markdown",
      "source": [
        "### **2. Salt and Paper Noise**\n",
        "\n",
        "* We need to change the mode argument to s&p for adding salt & pepper noise. The salt_vs_pepper argument value is 0.5. This means that the ratio of the salt to pepper noise is going to be equal. All the other steps are going to the same as above."
      ],
      "metadata": {
        "id": "qgtBr2pDgBhB"
      }
    },
    {
      "cell_type": "code",
      "execution_count": null,
      "source": [
        "def salt_paper_noise():\n",
        "    for data in trainLoader:\n",
        "        img, _ = data[0], data[1]\n",
        "        salt_img = torch.tensor(random_noise(img, mode='salt', amount=0.05))\n",
        "        save_noisy_image(salt_img, r\"D:\\ashishpatel26_github\\Pytorch Learning\\Noise_image\\{dataset}_salt.png\")\n",
        "        break"
      ],
      "outputs": [],
      "metadata": {
        "id": "lTnQAGirgBhC"
      }
    },
    {
      "cell_type": "markdown",
      "source": [
        "### **3.Sparkle Noise**"
      ],
      "metadata": {
        "id": "p22OyKbCgBhC"
      }
    },
    {
      "cell_type": "code",
      "execution_count": null,
      "source": [
        "def speckle_noise():\n",
        "    for data in trainLoader:\n",
        "        img, _ = data[0], data[1]\n",
        "        speckle_img = torch.tensor(random_noise(img, mode='speckle', mean=0, var=0.05, clip=True))\n",
        "        save_noisy_image(speckle_img, r\"D:\\ashishpatel26_github\\Pytorch Learning\\Noise_image\\{dataset}_speckle.png\")\n",
        "        break"
      ],
      "outputs": [],
      "metadata": {
        "id": "10E54w2agBhC"
      }
    },
    {
      "cell_type": "code",
      "execution_count": null,
      "source": [
        "gaussian_noise()\n",
        "salt_paper_noise()\n",
        "speckle_noise()"
      ],
      "outputs": [],
      "metadata": {
        "id": "fEt5aP3SgBhC"
      }
    },
    {
      "cell_type": "markdown",
      "source": [
        "**7. Display the generated Result**\n",
        "---"
      ],
      "metadata": {
        "id": "4TyIfCRagBhD"
      }
    },
    {
      "cell_type": "code",
      "execution_count": null,
      "source": [
        "import glob\n",
        "glob.glob(\"Noise_image/*\")"
      ],
      "outputs": [
        {
          "output_type": "execute_result",
          "data": {
            "text/plain": [
              "['Noise_image\\\\{dataset}_gaussian.png',\n",
              " 'Noise_image\\\\{dataset}_salt.png',\n",
              " 'Noise_image\\\\{dataset}_speckle.png']"
            ]
          },
          "metadata": {},
          "execution_count": 37
        }
      ],
      "metadata": {
        "id": "FdwU_BSUgBhD",
        "outputId": "4ee1d7e4-be2e-45fb-d965-e0030f4930e1"
      }
    },
    {
      "cell_type": "code",
      "execution_count": null,
      "source": [
        "import cv2\n",
        "plt.figure(figsize=(15,15))\n",
        "plt.subplot(3,1,1)\n",
        "plt.imshow(cv2.imread(r\"D:\\ashishpatel26_github\\Pytorch Learning\\Noise_image\\{dataset}_gaussian.png\"))\n",
        "plt.axis('off')\n",
        "plt.title('Gaussian Noise', fontsize=20)\n",
        "plt.text(1.5, 2, 'Gaussian Noise', fontsize=20, color='red')\n",
        "plt.subplot(3,1,2)\n",
        "plt.imshow(cv2.imread(r\"D:\\ashishpatel26_github\\Pytorch Learning\\Noise_image\\{dataset}_salt.png\"))\n",
        "plt.axis('off')\n",
        "plt.title('Salt and Paper Noise', fontsize=20)\n",
        "plt.text(1.5, 2, 'Salt and Paper Noise', fontsize=20, color='red')\n",
        "plt.subplot(3,1,3)\n",
        "plt.imshow(cv2.imread(r\"D:\\ashishpatel26_github\\Pytorch Learning\\Noise_image\\{dataset}_speckle.png\"))\n",
        "plt.axis('off')\n",
        "plt.title('Salt and Paper Noise', fontsize=20)\n",
        "plt.text(1.5, 2, 'Speckles Noise', fontsize=20, color='red')\n",
        "plt.show()"
      ],
      "outputs": [
        {
          "output_type": "display_data",
          "data": {
            "image/png": "[encoded data removed]",
            "text/plain": [
              "<Figure size 1080x1080 with 3 Axes>"
            ]
          },
          "metadata": {
            "needs_background": "light"
          }
        }
      ],
      "metadata": {
        "id": "tXS4CVskgBhD",
        "outputId": "41281b2f-5a9a-4681-9d08-38b8401ded4f"
      }
    }
  ],
  "metadata": {
    "orig_nbformat": 4,
    "language_info": {
      "name": "python",
      "version": "3.8.0",
      "mimetype": "text/x-python",
      "codemirror_mode": {
        "name": "ipython",
        "version": 3
      },
      "pygments_lexer": "ipython3",
      "nbconvert_exporter": "python",
      "file_extension": ".py"
    },
    "kernelspec": {
      "name": "python3",
      "display_name": "Python 3.8.0 64-bit ('pytorch19': conda)"
    },
    "interpreter": {
      "hash": "884a8f81666a19c0851426c83cd6eaa7b212468ad852fb3caa21591c98d4369f"
    },
    "colab": {
      "provenance": []
    }
  },
  "nbformat": 4,
  "nbformat_minor": 0
}