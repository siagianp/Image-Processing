{
  "cells": [
    {
      "cell_type": "markdown",
      "metadata": {
        "id": "4WHYklcPbLAh"
      },
      "source": [
        "# Clustering with PyTorch"
      ]
    },
    {
      "cell_type": "markdown",
      "metadata": {
        "id": "1GwGXRCibLAi"
      },
      "source": [
        "\"PyTorch is a python package that provides [...]\n",
        "Tensor computation (like numpy) with strong GPU acceleration [...]\"\n",
        "\n",
        "So, let's use it for some Mean-shift clustering."
      ]
    },
    {
      "cell_type": "code",
      "execution_count": null,
      "metadata": {
        "execution": {
          "iopub.execute_input": "2020-11-27T14:28:50.392261Z",
          "iopub.status.busy": "2020-11-27T14:28:50.390451Z",
          "iopub.status.idle": "2020-11-27T14:28:51.142399Z",
          "shell.execute_reply": "2020-11-27T14:28:51.141770Z"
        },
        "id": "H90Ub4GgbLAj"
      },
      "outputs": [],
      "source": [
        "import math\n",
        "import operator\n",
        "\n",
        "import numpy as np\n",
        "import matplotlib.pyplot as plt\n",
        "\n",
        "import torch\n",
        "\n",
        "%matplotlib inline"
      ]
    },
    {
      "cell_type": "markdown",
      "metadata": {
        "id": "WGA43H9rbLAk"
      },
      "source": [
        "# Mean shitft clustering with numpy"
      ]
    },
    {
      "cell_type": "markdown",
      "metadata": {
        "id": "iOpMHP5FbLAl"
      },
      "source": [
        "## Create data"
      ]
    },
    {
      "cell_type": "code",
      "execution_count": null,
      "metadata": {
        "execution": {
          "iopub.execute_input": "2020-11-27T14:28:51.146324Z",
          "iopub.status.busy": "2020-11-27T14:28:51.145699Z",
          "iopub.status.idle": "2020-11-27T14:28:51.148155Z",
          "shell.execute_reply": "2020-11-27T14:28:51.147672Z"
        },
        "id": "xh3moykUbLAl"
      },
      "outputs": [],
      "source": [
        "n_clusters = 6\n",
        "n_samples = 1000"
      ]
    },
    {
      "cell_type": "markdown",
      "metadata": {
        "id": "Zw8XBggVbLAl"
      },
      "source": [
        "To generate our data, we're going to pick `n_clusters` random points, which we'll call centroids, and for each point we're going to generate `n_samples` random points about it."
      ]
    },
    {
      "cell_type": "code",
      "execution_count": null,
      "metadata": {
        "execution": {
          "iopub.execute_input": "2020-11-27T14:28:51.153067Z",
          "iopub.status.busy": "2020-11-27T14:28:51.152418Z",
          "iopub.status.idle": "2020-11-27T14:28:51.156074Z",
          "shell.execute_reply": "2020-11-27T14:28:51.155568Z"
        },
        "id": "WsE4tuF4bLAm"
      },
      "outputs": [],
      "source": [
        "centroids = np.random.uniform(-35, 35, (n_clusters, 2))\n",
        "slices = [np.random.multivariate_normal(centroids[i], np.diag([5., 5.]), n_samples)\n",
        "          for i in range(n_clusters)]\n",
        "data = np.concatenate(slices).astype(np.float32)"
      ]
    },
    {
      "cell_type": "markdown",
      "metadata": {
        "id": "Scrb6vJ9bLAm"
      },
      "source": [
        "Plot the data and the centroids:"
      ]
    },
    {
      "cell_type": "code",
      "execution_count": null,
      "metadata": {
        "execution": {
          "iopub.execute_input": "2020-11-27T14:28:51.185290Z",
          "iopub.status.busy": "2020-11-27T14:28:51.182857Z",
          "iopub.status.idle": "2020-11-27T14:28:51.473984Z",
          "shell.execute_reply": "2020-11-27T14:28:51.472308Z"
        },
        "id": "XM75noelbLAn",
        "outputId": "585e8951-872d-4b04-849c-ac76cf5e3c0d"
      },
      "outputs": [
        {
          "name": "stderr",
          "output_type": "stream",
          "text": [
            "'c' argument looks like a single numeric RGB or RGBA sequence, which should be avoided as value-mapping will have precedence in case its length matches with 'x' & 'y'.  Please use a 2-D array with a single row if you really want to specify the same RGB or RGBA value for all points.\n",
            "'c' argument looks like a single numeric RGB or RGBA sequence, which should be avoided as value-mapping will have precedence in case its length matches with 'x' & 'y'.  Please use a 2-D array with a single row if you really want to specify the same RGB or RGBA value for all points.\n",
            "'c' argument looks like a single numeric RGB or RGBA sequence, which should be avoided as value-mapping will have precedence in case its length matches with 'x' & 'y'.  Please use a 2-D array with a single row if you really want to specify the same RGB or RGBA value for all points.\n",
            "'c' argument looks like a single numeric RGB or RGBA sequence, which should be avoided as value-mapping will have precedence in case its length matches with 'x' & 'y'.  Please use a 2-D array with a single row if you really want to specify the same RGB or RGBA value for all points.\n",
            "'c' argument looks like a single numeric RGB or RGBA sequence, which should be avoided as value-mapping will have precedence in case its length matches with 'x' & 'y'.  Please use a 2-D array with a single row if you really want to specify the same RGB or RGBA value for all points.\n",
            "'c' argument looks like a single numeric RGB or RGBA sequence, which should be avoided as value-mapping will have precedence in case its length matches with 'x' & 'y'.  Please use a 2-D array with a single row if you really want to specify the same RGB or RGBA value for all points.\n"
          ]
        },
        {
          "data": {
            "image/png": "[encoded data removed]",
            "text/plain": [
              "<Figure size 288x288 with 1 Axes>"
            ]
          },
          "metadata": {
            "needs_background": "light"
          },
          "output_type": "display_data"
        }
      ],
      "source": [
        "def plot_data(centroids, data, n_samples):\n",
        "    colour = plt.cm.rainbow(np.linspace(0,1,len(centroids)))\n",
        "\n",
        "    fig, ax = plt.subplots(figsize=(4, 4))\n",
        "    for i, centroid in enumerate(centroids):\n",
        "        samples = data[i * n_samples : (i + 1) * n_samples]\n",
        "        ax.scatter(samples[:, 0], samples[:, 1], c=colour[i], s=1)\n",
        "        ax.plot(centroid[0], centroid[1], markersize=10, marker=\"x\", color='k', mew=5)\n",
        "        ax.plot(centroid[0], centroid[1], markersize=5, marker=\"x\", color='m', mew=2)\n",
        "    plt.axis('equal')\n",
        "\n",
        "plot_data(centroids, data, n_samples)"
      ]
    },
    {
      "cell_type": "markdown",
      "metadata": {
        "id": "acvY5a8bbLAo"
      },
      "source": [
        "## The mean shift algorithm\n",
        "\n",
        "\"Mean shift is a **non-parametric** feature-space analysis technique for locating the maxima of a density function, a so-called **mode-seeking algorithm**. Application domains include cluster analysis in computer vision and image processing.\" -- https://en.wikipedia.org/wiki/Mean_shift\n",
        "\n",
        "Think of mean-shift clustering as k-means but you don't have to specify the number of clusters.\n",
        "(You have to specify the **bandwidth** but that can be automated.)"
      ]
    },
    {
      "cell_type": "markdown",
      "metadata": {
        "id": "orjNoMjabLAo"
      },
      "source": [
        "Algo:\n",
        "```python\n",
        "# PSEUDO CODE\n",
        "while not_converged():\n",
        "    for i, point in enumerate(points):\n",
        "        # distance for the given point to all other points\n",
        "        distances = calc_distances(point, points)\n",
        "        \n",
        "        # turn distance into weights using a gaussian\n",
        "        weights = gaussian(dist, bandwidth=2.5)\n",
        "        \n",
        "        # update the weights by using the weights\n",
        "        points[i] = (weights * points).sum(0) / weights.sum()\n",
        "\n",
        "return points\n",
        "```"
      ]
    },
    {
      "cell_type": "markdown",
      "metadata": {
        "id": "3SLrw3-nbLAp"
      },
      "source": [
        "## The implementation\n",
        "\n",
        "Let's implement this with numpy:"
      ]
    },
    {
      "cell_type": "code",
      "execution_count": null,
      "metadata": {
        "execution": {
          "iopub.execute_input": "2020-11-27T14:28:51.484316Z",
          "iopub.status.busy": "2020-11-27T14:28:51.482603Z",
          "iopub.status.idle": "2020-11-27T14:28:51.489070Z",
          "shell.execute_reply": "2020-11-27T14:28:51.487291Z"
        },
        "id": "fjBSL7lRbLAp"
      },
      "outputs": [],
      "source": [
        "from numpy import exp, sqrt, array"
      ]
    },
    {
      "cell_type": "code",
      "execution_count": null,
      "metadata": {
        "execution": {
          "iopub.execute_input": "2020-11-27T14:28:51.497091Z",
          "iopub.status.busy": "2020-11-27T14:28:51.496245Z",
          "iopub.status.idle": "2020-11-27T14:28:51.499903Z",
          "shell.execute_reply": "2020-11-27T14:28:51.498943Z"
        },
        "id": "h-eUvLywbLAq"
      },
      "outputs": [],
      "source": [
        "def distance(x, X):\n",
        "    # return np.linalg.norm(x - X, axis=1)\n",
        "    return sqrt(((x - X)**2).sum(1))"
      ]
    },
    {
      "cell_type": "markdown",
      "metadata": {
        "id": "pI476FxZbLAq"
      },
      "source": [
        "Let's try it out. (More on how this function works shortly)"
      ]
    },
    {
      "cell_type": "code",
      "execution_count": null,
      "metadata": {
        "execution": {
          "iopub.execute_input": "2020-11-27T14:28:51.505749Z",
          "iopub.status.busy": "2020-11-27T14:28:51.505188Z",
          "iopub.status.idle": "2020-11-27T14:28:51.508612Z",
          "shell.execute_reply": "2020-11-27T14:28:51.508041Z"
        },
        "id": "XbiXRxLTbLAq",
        "outputId": "0cd8342d-9b84-4d93-8be9-a233501bcbd6"
      },
      "outputs": [
        {
          "data": {
            "text/plain": [
              "array([0.        , 1.41421356, 5.38516481])"
            ]
          },
          "execution_count": 1,
          "metadata": {},
          "output_type": "execute_result"
        }
      ],
      "source": [
        "a = array([1, 2])\n",
        "b = array([[1, 2],\n",
        "           [2, 3],\n",
        "           [-1, -3]])\n",
        "\n",
        "dist = distance(a, b)\n",
        "dist"
      ]
    },
    {
      "cell_type": "code",
      "execution_count": null,
      "metadata": {
        "execution": {
          "iopub.execute_input": "2020-11-27T14:28:51.512738Z",
          "iopub.status.busy": "2020-11-27T14:28:51.512186Z",
          "iopub.status.idle": "2020-11-27T14:28:51.514805Z",
          "shell.execute_reply": "2020-11-27T14:28:51.516123Z"
        },
        "id": "eNZ2rnGmbLAq"
      },
      "outputs": [],
      "source": [
        "def gaussian(dist, bandwidth):\n",
        "    return exp(-0.5 * ((dist / bandwidth))**2) / (bandwidth * math.sqrt(2 * math.pi))"
      ]
    },
    {
      "cell_type": "code",
      "execution_count": null,
      "metadata": {
        "execution": {
          "iopub.execute_input": "2020-11-27T14:28:51.527799Z",
          "iopub.status.busy": "2020-11-27T14:28:51.526077Z",
          "iopub.status.idle": "2020-11-27T14:28:51.535106Z",
          "shell.execute_reply": "2020-11-27T14:28:51.533402Z"
        },
        "id": "68y-E4o3bLAr",
        "outputId": "5a6727e4-f710-454a-ae6b-03d87507a7f3"
      },
      "outputs": [
        {
          "data": {
            "text/plain": [
              "array([0.15957691, 0.13598247, 0.0156822 ])"
            ]
          },
          "execution_count": 1,
          "metadata": {},
          "output_type": "execute_result"
        }
      ],
      "source": [
        "gaussian(dist, 2.5)"
      ]
    },
    {
      "cell_type": "markdown",
      "metadata": {
        "id": "dqzzITDIbLAr"
      },
      "source": [
        "Now we can do a single mean shift step:"
      ]
    },
    {
      "cell_type": "code",
      "execution_count": null,
      "metadata": {
        "execution": {
          "iopub.execute_input": "2020-11-27T14:28:51.547666Z",
          "iopub.status.busy": "2020-11-27T14:28:51.546475Z",
          "iopub.status.idle": "2020-11-27T14:28:51.551311Z",
          "shell.execute_reply": "2020-11-27T14:28:51.550415Z"
        },
        "id": "_ex_vLHkbLAr"
      },
      "outputs": [],
      "source": [
        "def meanshift_step(X, bandwidth=2.5):\n",
        "    for i, x in enumerate(X):\n",
        "        dist = distance(x, X)\n",
        "        weight = gaussian(dist, bandwidth)\n",
        "        X[i] = (weight[:, None] * X).sum(0) / weight.sum()\n",
        "    return X"
      ]
    },
    {
      "cell_type": "markdown",
      "metadata": {
        "id": "uJbUhkIEbLAr"
      },
      "source": [
        "Data before:"
      ]
    },
    {
      "cell_type": "code",
      "execution_count": null,
      "metadata": {
        "execution": {
          "iopub.execute_input": "2020-11-27T14:28:51.570980Z",
          "iopub.status.busy": "2020-11-27T14:28:51.570468Z",
          "iopub.status.idle": "2020-11-27T14:28:51.867554Z",
          "shell.execute_reply": "2020-11-27T14:28:51.865649Z"
        },
        "id": "Z9BwyzTbbLAr",
        "outputId": "6f2e473e-6ec5-4e8e-9b73-fea40e693028"
      },
      "outputs": [
        {
          "name": "stderr",
          "output_type": "stream",
          "text": [
            "'c' argument looks like a single numeric RGB or RGBA sequence, which should be avoided as value-mapping will have precedence in case its length matches with 'x' & 'y'.  Please use a 2-D array with a single row if you really want to specify the same RGB or RGBA value for all points.\n",
            "'c' argument looks like a single numeric RGB or RGBA sequence, which should be avoided as value-mapping will have precedence in case its length matches with 'x' & 'y'.  Please use a 2-D array with a single row if you really want to specify the same RGB or RGBA value for all points.\n",
            "'c' argument looks like a single numeric RGB or RGBA sequence, which should be avoided as value-mapping will have precedence in case its length matches with 'x' & 'y'.  Please use a 2-D array with a single row if you really want to specify the same RGB or RGBA value for all points.\n",
            "'c' argument looks like a single numeric RGB or RGBA sequence, which should be avoided as value-mapping will have precedence in case its length matches with 'x' & 'y'.  Please use a 2-D array with a single row if you really want to specify the same RGB or RGBA value for all points.\n",
            "'c' argument looks like a single numeric RGB or RGBA sequence, which should be avoided as value-mapping will have precedence in case its length matches with 'x' & 'y'.  Please use a 2-D array with a single row if you really want to specify the same RGB or RGBA value for all points.\n",
            "'c' argument looks like a single numeric RGB or RGBA sequence, which should be avoided as value-mapping will have precedence in case its length matches with 'x' & 'y'.  Please use a 2-D array with a single row if you really want to specify the same RGB or RGBA value for all points.\n"
          ]
        },
        {
          "data": {
            "image/png": "[encoded data removed]",
            "text/plain": [
              "<Figure size 288x288 with 1 Axes>"
            ]
          },
          "metadata": {
            "needs_background": "light"
          },
          "output_type": "display_data"
        }
      ],
      "source": [
        "plot_data(centroids, data, n_samples)"
      ]
    },
    {
      "cell_type": "markdown",
      "metadata": {
        "id": "u7io3kOUbLAs"
      },
      "source": [
        "Data after:"
      ]
    },
    {
      "cell_type": "code",
      "execution_count": null,
      "metadata": {
        "execution": {
          "iopub.execute_input": "2020-11-27T14:28:51.874529Z",
          "iopub.status.busy": "2020-11-27T14:28:51.873685Z",
          "iopub.status.idle": "2020-11-27T14:28:56.051576Z",
          "shell.execute_reply": "2020-11-27T14:28:56.049850Z"
        },
        "id": "WtF6TvitbLAs",
        "outputId": "09f6ebf5-80a1-4b9c-b900-70820e2b10ee"
      },
      "outputs": [
        {
          "name": "stderr",
          "output_type": "stream",
          "text": [
            "'c' argument looks like a single numeric RGB or RGBA sequence, which should be avoided as value-mapping will have precedence in case its length matches with 'x' & 'y'.  Please use a 2-D array with a single row if you really want to specify the same RGB or RGBA value for all points.\n",
            "'c' argument looks like a single numeric RGB or RGBA sequence, which should be avoided as value-mapping will have precedence in case its length matches with 'x' & 'y'.  Please use a 2-D array with a single row if you really want to specify the same RGB or RGBA value for all points.\n",
            "'c' argument looks like a single numeric RGB or RGBA sequence, which should be avoided as value-mapping will have precedence in case its length matches with 'x' & 'y'.  Please use a 2-D array with a single row if you really want to specify the same RGB or RGBA value for all points.\n",
            "'c' argument looks like a single numeric RGB or RGBA sequence, which should be avoided as value-mapping will have precedence in case its length matches with 'x' & 'y'.  Please use a 2-D array with a single row if you really want to specify the same RGB or RGBA value for all points.\n",
            "'c' argument looks like a single numeric RGB or RGBA sequence, which should be avoided as value-mapping will have precedence in case its length matches with 'x' & 'y'.  Please use a 2-D array with a single row if you really want to specify the same RGB or RGBA value for all points.\n",
            "'c' argument looks like a single numeric RGB or RGBA sequence, which should be avoided as value-mapping will have precedence in case its length matches with 'x' & 'y'.  Please use a 2-D array with a single row if you really want to specify the same RGB or RGBA value for all points.\n"
          ]
        },
        {
          "data": {
            "image/png": "[encoded data removed]",
            "text/plain": [
              "<Figure size 288x288 with 1 Axes>"
            ]
          },
          "metadata": {
            "needs_background": "light"
          },
          "output_type": "display_data"
        }
      ],
      "source": [
        "_X = meanshift_step(np.copy(data))\n",
        "plot_data(centroids, _X, n_samples)"
      ]
    },
    {
      "cell_type": "markdown",
      "metadata": {
        "id": "idft9VZjbLAs"
      },
      "source": [
        "Just repeath this/iterate a few times and we have the complete mean shift algorithm:"
      ]
    },
    {
      "cell_type": "code",
      "execution_count": null,
      "metadata": {
        "execution": {
          "iopub.execute_input": "2020-11-27T14:28:56.061258Z",
          "iopub.status.busy": "2020-11-27T14:28:56.060412Z",
          "iopub.status.idle": "2020-11-27T14:28:56.064060Z",
          "shell.execute_reply": "2020-11-27T14:28:56.063200Z"
        },
        "id": "GFPopQCGbLAs"
      },
      "outputs": [],
      "source": [
        "def meanshift(X):\n",
        "    X = np.copy(X)\n",
        "    for _ in range(5):\n",
        "        X = meanshift_step(X)\n",
        "    return X"
      ]
    },
    {
      "cell_type": "code",
      "execution_count": null,
      "metadata": {
        "execution": {
          "iopub.execute_input": "2020-11-27T14:28:56.069215Z",
          "iopub.status.busy": "2020-11-27T14:28:56.068558Z",
          "iopub.status.idle": "2020-11-27T14:29:12.248115Z",
          "shell.execute_reply": "2020-11-27T14:29:12.247037Z"
        },
        "id": "hwfirD1TbLAs",
        "outputId": "909640b0-4616-42a6-a360-b646ac8e8ab4"
      },
      "outputs": [
        {
          "name": "stdout",
          "output_type": "stream",
          "text": [
            "CPU times: user 16.2 s, sys: 0 ns, total: 16.2 s\n",
            "Wall time: 16.2 s\n"
          ]
        }
      ],
      "source": [
        "%%time\n",
        "X = meanshift(data)"
      ]
    },
    {
      "cell_type": "code",
      "execution_count": null,
      "metadata": {
        "execution": {
          "iopub.execute_input": "2020-11-27T14:29:12.270345Z",
          "iopub.status.busy": "2020-11-27T14:29:12.268640Z",
          "iopub.status.idle": "2020-11-27T14:29:12.567063Z",
          "shell.execute_reply": "2020-11-27T14:29:12.566563Z"
        },
        "id": "3L2bJAZabLAs",
        "outputId": "b1196726-fa61-47b1-c87c-5d20477a8f41"
      },
      "outputs": [
        {
          "name": "stderr",
          "output_type": "stream",
          "text": [
            "'c' argument looks like a single numeric RGB or RGBA sequence, which should be avoided as value-mapping will have precedence in case its length matches with 'x' & 'y'.  Please use a 2-D array with a single row if you really want to specify the same RGB or RGBA value for all points.\n",
            "'c' argument looks like a single numeric RGB or RGBA sequence, which should be avoided as value-mapping will have precedence in case its length matches with 'x' & 'y'.  Please use a 2-D array with a single row if you really want to specify the same RGB or RGBA value for all points.\n",
            "'c' argument looks like a single numeric RGB or RGBA sequence, which should be avoided as value-mapping will have precedence in case its length matches with 'x' & 'y'.  Please use a 2-D array with a single row if you really want to specify the same RGB or RGBA value for all points.\n",
            "'c' argument looks like a single numeric RGB or RGBA sequence, which should be avoided as value-mapping will have precedence in case its length matches with 'x' & 'y'.  Please use a 2-D array with a single row if you really want to specify the same RGB or RGBA value for all points.\n",
            "'c' argument looks like a single numeric RGB or RGBA sequence, which should be avoided as value-mapping will have precedence in case its length matches with 'x' & 'y'.  Please use a 2-D array with a single row if you really want to specify the same RGB or RGBA value for all points.\n",
            "'c' argument looks like a single numeric RGB or RGBA sequence, which should be avoided as value-mapping will have precedence in case its length matches with 'x' & 'y'.  Please use a 2-D array with a single row if you really want to specify the same RGB or RGBA value for all points.\n"
          ]
        },
        {
          "data": {
            "image/png": "[encoded data removed]",
            "text/plain": [
              "<Figure size 288x288 with 1 Axes>"
            ]
          },
          "metadata": {
            "needs_background": "light"
          },
          "output_type": "display_data"
        }
      ],
      "source": [
        "plot_data(centroids, X, n_samples)"
      ]
    },
    {
      "cell_type": "markdown",
      "metadata": {
        "id": "MmhPgHPnbLAs"
      },
      "source": [
        "# Mean shift in PyTorch (with GPU)\n",
        "\n",
        "PyTorch is like numpy and the interface is very similar.\n",
        "\n",
        "We actually don't have to adjust anything really to use torch instead of numpy."
      ]
    },
    {
      "cell_type": "code",
      "execution_count": null,
      "metadata": {
        "execution": {
          "iopub.execute_input": "2020-11-27T14:29:12.569977Z",
          "iopub.status.busy": "2020-11-27T14:29:12.569573Z",
          "iopub.status.idle": "2020-11-27T14:29:12.571743Z",
          "shell.execute_reply": "2020-11-27T14:29:12.571403Z"
        },
        "id": "gbzjllA6bLAs"
      },
      "outputs": [],
      "source": [
        "import torch\n",
        "from torch import exp, sqrt"
      ]
    },
    {
      "cell_type": "markdown",
      "metadata": {
        "id": "IZ_gbuqbbLAt"
      },
      "source": [
        "We oncly have to copy the data into a PyTorch GPU tensor."
      ]
    },
    {
      "cell_type": "code",
      "execution_count": null,
      "metadata": {
        "execution": {
          "iopub.execute_input": "2020-11-27T14:29:12.578037Z",
          "iopub.status.busy": "2020-11-27T14:29:12.575551Z",
          "iopub.status.idle": "2020-11-27T14:29:12.583145Z",
          "shell.execute_reply": "2020-11-27T14:29:12.580707Z"
        },
        "id": "v1_Ts0uYbLAt"
      },
      "outputs": [],
      "source": [
        "def meanshift_torch(X):\n",
        "    X = torch.from_numpy(np.copy(X)).cuda()\n",
        "    for it in range(5):\n",
        "        X = meanshift_step(X)\n",
        "    return X"
      ]
    },
    {
      "cell_type": "code",
      "execution_count": null,
      "metadata": {
        "execution": {
          "iopub.execute_input": "2020-11-27T14:29:12.663283Z",
          "iopub.status.busy": "2020-11-27T14:29:12.662382Z",
          "iopub.status.idle": "2020-11-27T14:29:27.660484Z",
          "shell.execute_reply": "2020-11-27T14:29:27.659780Z"
        },
        "id": "CHXvlTlDbLAt",
        "outputId": "d1313239-b5f5-48d5-d153-3e3f9aceab43"
      },
      "outputs": [
        {
          "name": "stderr",
          "output_type": "stream",
          "text": [
            "'c' argument looks like a single numeric RGB or RGBA sequence, which should be avoided as value-mapping will have precedence in case its length matches with 'x' & 'y'.  Please use a 2-D array with a single row if you really want to specify the same RGB or RGBA value for all points.\n",
            "'c' argument looks like a single numeric RGB or RGBA sequence, which should be avoided as value-mapping will have precedence in case its length matches with 'x' & 'y'.  Please use a 2-D array with a single row if you really want to specify the same RGB or RGBA value for all points.\n",
            "'c' argument looks like a single numeric RGB or RGBA sequence, which should be avoided as value-mapping will have precedence in case its length matches with 'x' & 'y'.  Please use a 2-D array with a single row if you really want to specify the same RGB or RGBA value for all points.\n",
            "'c' argument looks like a single numeric RGB or RGBA sequence, which should be avoided as value-mapping will have precedence in case its length matches with 'x' & 'y'.  Please use a 2-D array with a single row if you really want to specify the same RGB or RGBA value for all points.\n",
            "'c' argument looks like a single numeric RGB or RGBA sequence, which should be avoided as value-mapping will have precedence in case its length matches with 'x' & 'y'.  Please use a 2-D array with a single row if you really want to specify the same RGB or RGBA value for all points.\n",
            "'c' argument looks like a single numeric RGB or RGBA sequence, which should be avoided as value-mapping will have precedence in case its length matches with 'x' & 'y'.  Please use a 2-D array with a single row if you really want to specify the same RGB or RGBA value for all points.\n"
          ]
        },
        {
          "name": "stdout",
          "output_type": "stream",
          "text": [
            "CPU times: user 13.5 s, sys: 1.18 s, total: 14.6 s\n",
            "Wall time: 14.7 s\n"
          ]
        },
        {
          "data": {
            "image/png": "[encoded data removed]",
            "text/plain": [
              "<Figure size 288x288 with 1 Axes>"
            ]
          },
          "metadata": {
            "needs_background": "light"
          },
          "output_type": "display_data"
        }
      ],
      "source": [
        "%time X = meanshift_torch(data).cpu().numpy()\n",
        "plot_data(centroids+2, X, n_samples)"
      ]
    },
    {
      "cell_type": "markdown",
      "metadata": {
        "id": "B_vhFtbxbLAv"
      },
      "source": [
        "Same results, but the implementation is about the same speed.\n",
        "\n",
        "CUDA kernels have to be started for each calculation and the kernels don't have enough to do.\n",
        "Let's not process individual points, but batches of points."
      ]
    },
    {
      "cell_type": "markdown",
      "metadata": {
        "id": "voXDolrHbLAv"
      },
      "source": [
        "## Batch processing"
      ]
    },
    {
      "cell_type": "code",
      "execution_count": null,
      "metadata": {
        "execution": {
          "iopub.execute_input": "2020-11-27T14:29:27.665040Z",
          "iopub.status.busy": "2020-11-27T14:29:27.664454Z",
          "iopub.status.idle": "2020-11-27T14:29:27.666828Z",
          "shell.execute_reply": "2020-11-27T14:29:27.666348Z"
        },
        "id": "eaxrUeagbLAv"
      },
      "outputs": [],
      "source": [
        "def distance_batch(a, b):\n",
        "    return sqrt(((a[None,:] - b[:,None]) ** 2).sum(2))"
      ]
    },
    {
      "cell_type": "code",
      "execution_count": null,
      "metadata": {
        "execution": {
          "iopub.execute_input": "2020-11-27T14:29:27.670292Z",
          "iopub.status.busy": "2020-11-27T14:29:27.669823Z",
          "iopub.status.idle": "2020-11-27T14:29:27.680289Z",
          "shell.execute_reply": "2020-11-27T14:29:27.678323Z"
        },
        "id": "nA19xSASbLAw",
        "outputId": "70375bd1-bd44-4898-f4b9-72880f93c186"
      },
      "outputs": [
        {
          "data": {
            "text/plain": [
              "tensor([[0.8240, 0.2037, 0.3762],\n",
              "        [0.7520, 0.4980, 0.8104]])"
            ]
          },
          "execution_count": 1,
          "metadata": {},
          "output_type": "execute_result"
        }
      ],
      "source": [
        "a = torch.rand(2, 2)\n",
        "b = torch.rand(3, 2)\n",
        "distance_batch(b, a)"
      ]
    },
    {
      "cell_type": "markdown",
      "metadata": {
        "id": "9p_bAQqObLAw"
      },
      "source": [
        "`distance_batch` contains some broadcast magic that allows us to compute the distance from each point in a batch to all points in the data."
      ]
    },
    {
      "cell_type": "code",
      "execution_count": null,
      "metadata": {
        "execution": {
          "iopub.execute_input": "2020-11-27T14:29:27.692271Z",
          "iopub.status.busy": "2020-11-27T14:29:27.691572Z",
          "iopub.status.idle": "2020-11-27T14:29:27.694731Z",
          "shell.execute_reply": "2020-11-27T14:29:27.694017Z"
        },
        "id": "xQMZfWt0bLA2"
      },
      "outputs": [],
      "source": [
        "def meanshift_torch2(data, batch_size=500):\n",
        "    n = len(data)\n",
        "    X = torch.from_numpy(np.copy(data)).cuda()\n",
        "    for _ in range(5):\n",
        "        for i in range(0, n, batch_size):\n",
        "            s = slice(i, min(n, i + batch_size))\n",
        "            weight = gaussian(distance_batch(X, X[s]), 2.5)\n",
        "            num = (weight[:, :, None] * X).sum(dim=1)\n",
        "            X[s] = num / weight.sum(1)[:, None]\n",
        "    return X"
      ]
    },
    {
      "cell_type": "code",
      "execution_count": null,
      "metadata": {
        "execution": {
          "iopub.execute_input": "2020-11-27T14:29:27.699488Z",
          "iopub.status.busy": "2020-11-27T14:29:27.698936Z",
          "iopub.status.idle": "2020-11-27T14:29:40.518587Z",
          "shell.execute_reply": "2020-11-27T14:29:40.518195Z"
        },
        "id": "BbmnO6vybLA3",
        "outputId": "c1ba3fad-06e1-427e-d8fb-dc140f5919d7"
      },
      "outputs": [
        {
          "name": "stdout",
          "output_type": "stream",
          "text": [
            "CPU times: user 12.8 s, sys: 6.09 ms, total: 12.8 s\n",
            "Wall time: 12.8 s\n"
          ]
        }
      ],
      "source": [
        "%time X = meanshift_torch2(data, batch_size=1).cpu().numpy()"
      ]
    },
    {
      "cell_type": "code",
      "execution_count": null,
      "metadata": {
        "execution": {
          "iopub.execute_input": "2020-11-27T14:29:40.529239Z",
          "iopub.status.busy": "2020-11-27T14:29:40.527613Z",
          "iopub.status.idle": "2020-11-27T14:29:41.909314Z",
          "shell.execute_reply": "2020-11-27T14:29:41.908737Z"
        },
        "id": "R1r4hHqobLA3",
        "outputId": "ec8d4721-f99c-4f13-d032-385e87d7c92a"
      },
      "outputs": [
        {
          "name": "stdout",
          "output_type": "stream",
          "text": [
            "CPU times: user 1.38 s, sys: 0 ns, total: 1.38 s\n",
            "Wall time: 1.38 s\n"
          ]
        }
      ],
      "source": [
        "%time X = meanshift_torch2(data, batch_size=10).cpu().numpy()"
      ]
    },
    {
      "cell_type": "code",
      "execution_count": null,
      "metadata": {
        "execution": {
          "iopub.execute_input": "2020-11-27T14:29:41.914316Z",
          "iopub.status.busy": "2020-11-27T14:29:41.913131Z",
          "iopub.status.idle": "2020-11-27T14:29:42.159982Z",
          "shell.execute_reply": "2020-11-27T14:29:42.161264Z"
        },
        "id": "vnb4NZg4bLA3",
        "outputId": "2d0987e6-ce29-4285-b6bf-c09c3660e4c1"
      },
      "outputs": [
        {
          "name": "stdout",
          "output_type": "stream",
          "text": [
            "CPU times: user 230 ms, sys: 7.96 ms, total: 238 ms\n",
            "Wall time: 238 ms\n"
          ]
        }
      ],
      "source": [
        "%time X = meanshift_torch2(data, batch_size=100).cpu().numpy()"
      ]
    },
    {
      "cell_type": "code",
      "execution_count": null,
      "metadata": {
        "execution": {
          "iopub.execute_input": "2020-11-27T14:29:42.169704Z",
          "iopub.status.busy": "2020-11-27T14:29:42.168101Z",
          "iopub.status.idle": "2020-11-27T14:29:42.386134Z",
          "shell.execute_reply": "2020-11-27T14:29:42.384980Z"
        },
        "id": "1jl1iKQpbLA3",
        "outputId": "c5dc6837-d099-480e-974f-615930485545"
      },
      "outputs": [
        {
          "name": "stdout",
          "output_type": "stream",
          "text": [
            "CPU times: user 207 ms, sys: 3.88 ms, total: 211 ms\n",
            "Wall time: 210 ms\n"
          ]
        }
      ],
      "source": [
        "%time X = meanshift_torch2(data, batch_size=1000).cpu().numpy()"
      ]
    },
    {
      "cell_type": "code",
      "execution_count": null,
      "metadata": {
        "execution": {
          "iopub.execute_input": "2020-11-27T14:29:42.393796Z",
          "iopub.status.busy": "2020-11-27T14:29:42.392461Z",
          "iopub.status.idle": "2020-11-27T14:29:42.616957Z",
          "shell.execute_reply": "2020-11-27T14:29:42.615288Z"
        },
        "id": "yk0Z7vhQbLA3",
        "outputId": "b78bada7-8612-4637-ca72-b4df3730370d"
      },
      "outputs": [
        {
          "name": "stdout",
          "output_type": "stream",
          "text": [
            "CPU times: user 210 ms, sys: 3.65 ms, total: 214 ms\n",
            "Wall time: 215 ms\n"
          ]
        }
      ],
      "source": [
        "%time X = meanshift_torch2(data, batch_size=6000).cpu().numpy()"
      ]
    },
    {
      "cell_type": "code",
      "execution_count": null,
      "metadata": {
        "execution": {
          "iopub.execute_input": "2020-11-27T14:29:42.748581Z",
          "iopub.status.busy": "2020-11-27T14:29:42.746183Z",
          "iopub.status.idle": "2020-11-27T14:29:43.016381Z",
          "shell.execute_reply": "2020-11-27T14:29:43.016736Z"
        },
        "id": "haLTRyazbLA4",
        "outputId": "b8a8ca59-2267-4c85-a42b-915d595ac1a1"
      },
      "outputs": [
        {
          "name": "stderr",
          "output_type": "stream",
          "text": [
            "'c' argument looks like a single numeric RGB or RGBA sequence, which should be avoided as value-mapping will have precedence in case its length matches with 'x' & 'y'.  Please use a 2-D array with a single row if you really want to specify the same RGB or RGBA value for all points.\n",
            "'c' argument looks like a single numeric RGB or RGBA sequence, which should be avoided as value-mapping will have precedence in case its length matches with 'x' & 'y'.  Please use a 2-D array with a single row if you really want to specify the same RGB or RGBA value for all points.\n",
            "'c' argument looks like a single numeric RGB or RGBA sequence, which should be avoided as value-mapping will have precedence in case its length matches with 'x' & 'y'.  Please use a 2-D array with a single row if you really want to specify the same RGB or RGBA value for all points.\n",
            "'c' argument looks like a single numeric RGB or RGBA sequence, which should be avoided as value-mapping will have precedence in case its length matches with 'x' & 'y'.  Please use a 2-D array with a single row if you really want to specify the same RGB or RGBA value for all points.\n",
            "'c' argument looks like a single numeric RGB or RGBA sequence, which should be avoided as value-mapping will have precedence in case its length matches with 'x' & 'y'.  Please use a 2-D array with a single row if you really want to specify the same RGB or RGBA value for all points.\n",
            "'c' argument looks like a single numeric RGB or RGBA sequence, which should be avoided as value-mapping will have precedence in case its length matches with 'x' & 'y'.  Please use a 2-D array with a single row if you really want to specify the same RGB or RGBA value for all points.\n"
          ]
        },
        {
          "data": {
            "image/png": "[encoded data removed]",
            "text/plain": [
              "<Figure size 288x288 with 1 Axes>"
            ]
          },
          "metadata": {
            "needs_background": "light"
          },
          "output_type": "display_data"
        }
      ],
      "source": [
        "plot_data(centroids+2, X, n_samples)"
      ]
    },
    {
      "cell_type": "markdown",
      "metadata": {
        "id": "52zLdGMkbLA4"
      },
      "source": [
        "# Mean shift in scikit-learn\n",
        "\n",
        "Of course, sklearn also offers `MeanShift`.\n",
        "Let's see how it performs"
      ]
    },
    {
      "cell_type": "code",
      "execution_count": null,
      "metadata": {
        "execution": {
          "iopub.execute_input": "2020-11-27T14:29:43.020319Z",
          "iopub.status.busy": "2020-11-27T14:29:43.019893Z",
          "iopub.status.idle": "2020-11-27T14:29:43.410725Z",
          "shell.execute_reply": "2020-11-27T14:29:43.410271Z"
        },
        "id": "itGl9VpqbLA4"
      },
      "outputs": [],
      "source": [
        "from sklearn.cluster import MeanShift"
      ]
    },
    {
      "cell_type": "code",
      "execution_count": null,
      "metadata": {
        "execution": {
          "iopub.execute_input": "2020-11-27T14:29:43.414670Z",
          "iopub.status.busy": "2020-11-27T14:29:43.414340Z",
          "iopub.status.idle": "2020-11-27T14:29:55.430218Z",
          "shell.execute_reply": "2020-11-27T14:29:55.429710Z"
        },
        "id": "Wz7MEnpHbLA4",
        "outputId": "84234d1b-2c6c-4ab2-d665-e758ee26b2e8"
      },
      "outputs": [
        {
          "name": "stdout",
          "output_type": "stream",
          "text": [
            "CPU times: user 12 s, sys: 50.2 ms, total: 12 s\n",
            "Wall time: 12 s\n"
          ]
        },
        {
          "data": {
            "text/plain": [
              "MeanShift()"
            ]
          },
          "execution_count": 1,
          "metadata": {},
          "output_type": "execute_result"
        }
      ],
      "source": [
        "%%time\n",
        "model = MeanShift()\n",
        "model.fit(data)"
      ]
    },
    {
      "cell_type": "markdown",
      "metadata": {
        "id": "-daz1TwfbLA7"
      },
      "source": [
        "This is a faster than our naive implementation, but much slower than the GPU version.\n"
      ]
    },
    {
      "cell_type": "markdown",
      "metadata": {
        "id": "zxVpcObtbLA7"
      },
      "source": [
        "# Note\n",
        "Keep in mind that this demo is not saying that A is faster than B.\n",
        "It rather shows that you can use PyTorch in fun ways!\n",
        "\n",
        "Ref:\n",
        "- https://pytorch.org/docs/stable/notes/broadcasting.html\n",
        "- https://pytorch.org/docs/stable/notes/cuda.html\n",
        "- https://github.com/fastai/fastai/blob/master/tutorials/meanshift.ipynb"
      ]
    }
  ],
  "metadata": {
    "anaconda-cloud": {},
    "kernelspec": {
      "display_name": "Python 3",
      "language": "python",
      "name": "python3"
    },
    "language_info": {
      "codemirror_mode": {
        "name": "ipython",
        "version": 3
      },
      "file_extension": ".py",
      "mimetype": "text/x-python",
      "name": "python",
      "nbconvert_exporter": "python",
      "pygments_lexer": "ipython3",
      "version": "3.8.5"
    },
    "colab": {
      "provenance": []
    }
  },
  "nbformat": 4,
  "nbformat_minor": 0
}